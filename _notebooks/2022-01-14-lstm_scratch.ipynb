{
  "cells": [
    {
      "cell_type": "code",
      "execution_count": 5,
      "id": "An33dhlBVpmK",
      "metadata": {
        "id": "An33dhlBVpmK"
      },
      "outputs": [],
      "source": [
        "import fastbook \n",
        "from fastbook import *"
      ]
    },
    {
      "cell_type": "markdown",
      "id": "D9WTyrk3VyS7",
      "metadata": {
        "id": "D9WTyrk3VyS7"
      },
      "source": [
        "# \"Language model from scratch\"\n",
        "> \"Building a custom LSTM for text generation\"\n",
        "\n",
        "- toc: true\n",
        "- branch: master\n",
        "- badges: true\n",
        "- comments: true\n",
        "- categories: [text generation, lstm, pytorch, fastai, natural language]\n",
        "- hide: true\n",
        "- search_exclude: true\n",
        "\n",
        "## Data"
      ]
    },
    {
      "cell_type": "code",
      "execution_count": 6,
      "id": "BuBNCT9MVkjE",
      "metadata": {
        "colab": {
          "base_uri": "https://localhost:8080/",
          "height": 37
        },
        "id": "BuBNCT9MVkjE",
        "outputId": "d25aa3f6-1b72-4d5a-818f-4838d81fbf6d"
      },
      "outputs": [
        {
          "data": {
            "text/html": [
              "\n",
              "    <div>\n",
              "        <style>\n",
              "            /* Turns off some styling */\n",
              "            progress {\n",
              "                /* gets rid of default border in Firefox and Opera. */\n",
              "                border: none;\n",
              "                /* Needs to be in here for Safari polyfill so background images work as expected. */\n",
              "                background-size: auto;\n",
              "            }\n",
              "            .progress-bar-interrupted, .progress-bar-interrupted::-webkit-progress-bar {\n",
              "                background: #F44336;\n",
              "            }\n",
              "        </style>\n",
              "      <progress value='32768' class='' max='30252' style='width:300px; height:20px; vertical-align: middle;'></progress>\n",
              "      108.32% [32768/30252 00:00<00:00]\n",
              "    </div>\n",
              "    "
            ],
            "text/plain": [
              "<IPython.core.display.HTML object>"
            ]
          },
          "metadata": {},
          "output_type": "display_data"
        }
      ],
      "source": [
        "from fastai.text.all import *\n",
        "path = untar_data(URLs.HUMAN_NUMBERS)"
      ]
    },
    {
      "cell_type": "code",
      "execution_count": 7,
      "id": "uVy8npXNV4Tw",
      "metadata": {
        "id": "uVy8npXNV4Tw"
      },
      "outputs": [],
      "source": [
        "#hide\n",
        "Path.BASE_PATH = path"
      ]
    },
    {
      "cell_type": "code",
      "execution_count": 8,
      "id": "PQSd6zmsV6bR",
      "metadata": {
        "colab": {
          "base_uri": "https://localhost:8080/"
        },
        "id": "PQSd6zmsV6bR",
        "outputId": "62673458-6ab6-41e7-b37f-737078139b7e"
      },
      "outputs": [
        {
          "data": {
            "text/plain": [
              "(#2) [Path('valid.txt'),Path('train.txt')]"
            ]
          },
          "execution_count": 8,
          "metadata": {},
          "output_type": "execute_result"
        }
      ],
      "source": [
        "path.ls()"
      ]
    },
    {
      "cell_type": "code",
      "execution_count": 9,
      "id": "Zb520Ur3V8Ct",
      "metadata": {
        "colab": {
          "base_uri": "https://localhost:8080/"
        },
        "id": "Zb520Ur3V8Ct",
        "outputId": "b1da4ea9-72d5-4f99-884b-0a07de2b758f"
      },
      "outputs": [
        {
          "data": {
            "text/plain": [
              "(#9998) ['one \\n','two \\n','three \\n','four \\n','five \\n','six \\n','seven \\n','eight \\n','nine \\n','ten \\n'...]"
            ]
          },
          "execution_count": 9,
          "metadata": {},
          "output_type": "execute_result"
        }
      ],
      "source": [
        "lines = L()\n",
        "with open(path/'train.txt') as f: lines += L(*f.readlines())\n",
        "with open(path/'valid.txt') as f: lines += L(*f.readlines())\n",
        "lines"
      ]
    },
    {
      "cell_type": "code",
      "execution_count": null,
      "id": "6A3De4gNWByi",
      "metadata": {
        "id": "6A3De4gNWByi"
      },
      "outputs": [],
      "source": []
    }
  ],
  "metadata": {
    "colab": {
      "name": "2022-01-14-lstm_scratch.ipynb",
      "provenance": []
    },
    "kernelspec": {
      "display_name": "Python 3.9.13 ('base')",
      "language": "python",
      "name": "python3"
    },
    "language_info": {
      "codemirror_mode": {
        "name": "ipython",
        "version": 3
      },
      "file_extension": ".py",
      "mimetype": "text/x-python",
      "name": "python",
      "nbconvert_exporter": "python",
      "pygments_lexer": "ipython3",
      "version": "3.9.13"
    },
    "vscode": {
      "interpreter": {
        "hash": "928e939eac0f654fbe05d053d90c99a276c56de033b66a14aea85c7f76d85484"
      }
    }
  },
  "nbformat": 4,
  "nbformat_minor": 5
}
