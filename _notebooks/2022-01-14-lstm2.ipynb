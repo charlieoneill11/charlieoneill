{
 "cells": [
  {
   "cell_type": "markdown",
   "id": "8cdd2e33",
   "metadata": {},
   "source": [
    "# \"Multivariate time-series forecasting with Pytorch LSTMs\"\n",
    "> \"Using recurrent neural networks \"\n",
    "\n",
    "- toc: true\n",
    "- branch: master\n",
    "- badges: true\n",
    "- comments: true\n",
    "- categories: [python, functional programming]\n",
    "- image: images/decorators/decorator.jpg\n",
    "- hide: false\n",
    "- search_exclude: true"
   ]
  }
 ],
 "metadata": {
  "kernelspec": {
   "display_name": "Python 3 (ipykernel)",
   "language": "python",
   "name": "python3"
  },
  "language_info": {
   "codemirror_mode": {
    "name": "ipython",
    "version": 3
   },
   "file_extension": ".py",
   "mimetype": "text/x-python",
   "name": "python",
   "nbconvert_exporter": "python",
   "pygments_lexer": "ipython3",
   "version": "3.8.5"
  }
 },
 "nbformat": 4,
 "nbformat_minor": 5
}
