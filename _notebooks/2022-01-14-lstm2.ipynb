{
 "cells": [
  {
   "cell_type": "markdown",
   "id": "2c83cf06",
   "metadata": {},
   "source": [
    "# \"Multivariate time-series forecasting with Pytorch LSTMs\"\n",
    "> \"Using recurrent neural networks for standard tabular time-series problems\"\n",
    "\n",
    "- toc: true\n",
    "- branch: master\n",
    "- badges: true\n",
    "- comments: true\n",
    "- categories: [python, lstm, pytorch]\n",
    "- hide: false\n",
    "- search_exclude: true"
   ]
  },
  {
   "cell_type": "code",
   "execution_count": 1,
   "id": "a887457e",
   "metadata": {},
   "outputs": [],
   "source": [
    "# hide\n",
    "import numpy as np\n",
    "import pandas as pd\n",
    "import matplotlib.pyplot as plt"
   ]
  },
  {
   "cell_type": "code",
   "execution_count": null,
   "id": "21e616c2",
   "metadata": {},
   "outputs": [],
   "source": []
  }
 ],
 "metadata": {
  "kernelspec": {
   "display_name": "Python 3 (ipykernel)",
   "language": "python",
   "name": "python3"
  },
  "language_info": {
   "codemirror_mode": {
    "name": "ipython",
    "version": 3
   },
   "file_extension": ".py",
   "mimetype": "text/x-python",
   "name": "python",
   "nbconvert_exporter": "python",
   "pygments_lexer": "ipython3",
   "version": "3.8.5"
  }
 },
 "nbformat": 4,
 "nbformat_minor": 5
}
