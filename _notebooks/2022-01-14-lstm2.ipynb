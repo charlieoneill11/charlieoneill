{
 "cells": [
  {
   "cell_type": "markdown",
   "id": "93318a0b",
   "metadata": {},
   "source": [
    "# \"Multivariate time-series forecasting with Pytorch LSTMs\"\n",
    "> \"Using recurrent neural networks for standard tabular time-series problems\"\n",
    "\n",
    "- toc: true\n",
    "- branch: master\n",
    "- badges: true\n",
    "- comments: true\n",
    "- categories: [python, lstm, pytorch]\n",
    "- hide: false\n",
    "- search_exclude: true"
   ]
  },
  {
   "cell_type": "markdown",
   "id": "4fe6368e",
   "metadata": {},
   "source": [
    "In a [previous post](https://charlieoneill11.github.io/charlieoneill/lstm/pytorch/2022/01/12/lstm1.html), I went into detail about constructing an LSTM for univariate time-series data. This itself is not a trivial task; you need to understand the form of the data, the shape of the inputs that we feed to the LSTM, and how to recurse over training inputs to produce an appropriate output. This knowledge is fantastic for analysing curves where the only information we have is the past values of the curve itself. For instance, we can use univariate LSTMs to learn trigonometric curves, and plot them well outside the domain of training values.\n",
    "\n",
    "Whilst it is all well and good to take one array of data, representing a sequence of values of a function over time, and attempt to predict future values, this often doesn't match the quantity of data available in the real world. More likely, the data we receive will be in tabular form, with each row representing a singular time step. Each row probably consists of several different columns; these are the features, or _predictors_, that we have information about at each time step. One of these columns is not a feature, however. It is the _target_ we want to predict. Consequently, we need a way to feed in these multiple values at each time step to our LSTM, and to produce a singular output representing the prediction at the next time step in return. In this way, we construct a __multivariate__ LSTM."
   ]
  },
  {
   "cell_type": "code",
   "execution_count": 1,
   "id": "84cf3f11",
   "metadata": {},
   "outputs": [],
   "source": [
    "# hide\n",
    "import numpy as np\n",
    "import pandas as pd\n",
    "import matplotlib.pyplot as plt"
   ]
  },
  {
   "cell_type": "markdown",
   "id": "f5ba2d02",
   "metadata": {},
   "source": [
    "## Predicting Tesla stock price\n",
    "For this problem, we're going to focus on financial data. Before we begin, I would like to point out that LSTMs will not make you rich, even if they are excellent forecasters for time-series data. __No__ model will make you rich; there's a whole field of thinking on epistemic humility and how impossible it is for anything you do to detect any edge in the market; I won't go into it here. But know this: if you've found an inconsistency in the price of a stock (it's too low, or too high and you want to capitalise on that), and you believe that no-one else has spotted this inconsistency, then you might want to rethink your surety. Recall that \"no-one else\" in this scenario includes the team of PhDs sitting in Goldman Sachs with a supercomputing cluster, the lowest latency in information and order processing in the market, and multi-billion dollar financial incentives to find exactly the same inconsistencies as you. If you really believe you've beaten them, you haven't. For more detail on this line of thinking, see Eliezer Yudkowsky’s [_Inadequate Equilibria_](https://equilibriabook.com/toc/).\n",
    "\n",
    "We'll frame our problem as follows. We have historical price data for Bitcoin, which includes the following predictors for each day (where we have daily time steps):\n",
    "* Opening price\n",
    "* High price\n",
    "* Low price\n",
    "* Volume traded\n",
    "Our target is closing price at each time step. "
   ]
  },
  {
   "cell_type": "markdown",
   "id": "e25a3a6d",
   "metadata": {},
   "source": [
    "### Preprocessing and exploratory analysis\n",
    "We begin by importing the data and quickly cleaning it. Fortunately, financial data is readily available online. We will use Yahoo historical prices for Bitcoin, available back to September 17, 2014. This data is available [here](https://finance.yahoo.com/quote/BTC-USD/history?period1=1410912000&period2=1642118400&interval=1d&filter=history&frequency=1d&includeAdjustedClose=true). Import the data using Pandas and have a look.\n",
    "\n",
    "> Note: you can download historical data here for almost any "
   ]
  },
  {
   "cell_type": "code",
   "execution_count": 53,
   "id": "7bdb3870",
   "metadata": {},
   "outputs": [
    {
     "data": {
      "text/html": [
       "<div>\n",
       "<style scoped>\n",
       "    .dataframe tbody tr th:only-of-type {\n",
       "        vertical-align: middle;\n",
       "    }\n",
       "\n",
       "    .dataframe tbody tr th {\n",
       "        vertical-align: top;\n",
       "    }\n",
       "\n",
       "    .dataframe thead th {\n",
       "        text-align: right;\n",
       "    }\n",
       "</style>\n",
       "<table border=\"1\" class=\"dataframe\">\n",
       "  <thead>\n",
       "    <tr style=\"text-align: right;\">\n",
       "      <th></th>\n",
       "      <th>Open</th>\n",
       "      <th>High</th>\n",
       "      <th>Low</th>\n",
       "      <th>Close</th>\n",
       "      <th>Volume</th>\n",
       "    </tr>\n",
       "    <tr>\n",
       "      <th>Date</th>\n",
       "      <th></th>\n",
       "      <th></th>\n",
       "      <th></th>\n",
       "      <th></th>\n",
       "      <th></th>\n",
       "    </tr>\n",
       "  </thead>\n",
       "  <tbody>\n",
       "    <tr>\n",
       "      <th>2014-09-17</th>\n",
       "      <td>465.864014</td>\n",
       "      <td>468.174011</td>\n",
       "      <td>452.421997</td>\n",
       "      <td>457.334015</td>\n",
       "      <td>21056800</td>\n",
       "    </tr>\n",
       "    <tr>\n",
       "      <th>2014-09-18</th>\n",
       "      <td>456.859985</td>\n",
       "      <td>456.859985</td>\n",
       "      <td>413.104004</td>\n",
       "      <td>424.440002</td>\n",
       "      <td>34483200</td>\n",
       "    </tr>\n",
       "    <tr>\n",
       "      <th>2014-09-19</th>\n",
       "      <td>424.102997</td>\n",
       "      <td>427.834991</td>\n",
       "      <td>384.532013</td>\n",
       "      <td>394.795990</td>\n",
       "      <td>37919700</td>\n",
       "    </tr>\n",
       "    <tr>\n",
       "      <th>2014-09-20</th>\n",
       "      <td>394.673004</td>\n",
       "      <td>423.295990</td>\n",
       "      <td>389.882996</td>\n",
       "      <td>408.903992</td>\n",
       "      <td>36863600</td>\n",
       "    </tr>\n",
       "    <tr>\n",
       "      <th>2014-09-21</th>\n",
       "      <td>408.084991</td>\n",
       "      <td>412.425995</td>\n",
       "      <td>393.181000</td>\n",
       "      <td>398.821014</td>\n",
       "      <td>26580100</td>\n",
       "    </tr>\n",
       "  </tbody>\n",
       "</table>\n",
       "</div>"
      ],
      "text/plain": [
       "                  Open        High         Low       Close    Volume\n",
       "Date                                                                \n",
       "2014-09-17  465.864014  468.174011  452.421997  457.334015  21056800\n",
       "2014-09-18  456.859985  456.859985  413.104004  424.440002  34483200\n",
       "2014-09-19  424.102997  427.834991  384.532013  394.795990  37919700\n",
       "2014-09-20  394.673004  423.295990  389.882996  408.903992  36863600\n",
       "2014-09-21  408.084991  412.425995  393.181000  398.821014  26580100"
      ]
     },
     "execution_count": 53,
     "metadata": {},
     "output_type": "execute_result"
    }
   ],
   "source": [
    "df = pd.read_csv('BTC-USD.csv', index_col = 'Date', parse_dates=True)\n",
    "df.drop(columns=['Adj Close'], inplace=True)\n",
    "df.head(5)"
   ]
  },
  {
   "cell_type": "code",
   "execution_count": 54,
   "id": "507f9407",
   "metadata": {},
   "outputs": [
    {
     "data": {
      "image/png": "[encoded data removed]",
      "text/plain": [
       "<Figure size 432x288 with 1 Axes>"
      ]
     },
     "metadata": {
      "needs_background": "light"
     },
     "output_type": "display_data"
    }
   ],
   "source": [
    "plt.plot(df.Close)\n",
    "plt.xlabel(\"Time\")\n",
    "plt.ylabel(\"Price (USD)\")\n",
    "plt.title(\"Bitcoin price over time\")\n",
    "plt.show();"
   ]
  },
  {
   "cell_type": "markdown",
   "id": "58cb0928",
   "metadata": {},
   "source": [
    "### Setting inputs and outputs"
   ]
  },
  {
   "cell_type": "code",
   "execution_count": 36,
   "id": "c36b8288",
   "metadata": {},
   "outputs": [
    {
     "data": {
      "text/plain": [
       "((2908, 4), (2908,))"
      ]
     },
     "execution_count": 36,
     "metadata": {},
     "output_type": "execute_result"
    }
   ],
   "source": [
    "X, y = df.drop(columns=['Close']), df.Close.values\n",
    "X.shape, y.shape"
   ]
  },
  {
   "cell_type": "code",
   "execution_count": 37,
   "id": "cda72dec",
   "metadata": {},
   "outputs": [],
   "source": [
    "from sklearn.preprocessing import StandardScaler, MinMaxScaler\n",
    "mm = MinMaxScaler()\n",
    "ss = StandardScaler()\n",
    "\n",
    "X_ss = ss.fit_transform(X)\n",
    "y_mm = mm.fit_transform(y.reshape(-1, 1)) "
   ]
  },
  {
   "cell_type": "code",
   "execution_count": 38,
   "id": "c1b9ca89",
   "metadata": {},
   "outputs": [],
   "source": [
    "total_samples = len(df)\n",
    "train_test_cutoff = round(0.95 * total_samples)\n",
    "\n",
    "# train-test split (200, 53)\n",
    "X_train = X_ss[:train_test_cutoff, :]\n",
    "X_test = X_ss[train_test_cutoff:, :]\n",
    "\n",
    "y_train = y_mm[:train_test_cutoff, :]\n",
    "y_test = y_mm[train_test_cutoff:, :] "
   ]
  },
  {
   "cell_type": "code",
   "execution_count": 39,
   "id": "e8e33ea6",
   "metadata": {},
   "outputs": [
    {
     "name": "stdout",
     "output_type": "stream",
     "text": [
      "Training Shape: (2763, 4) (2763, 1)\n",
      "Testing Shape: (145, 4) (145, 1)\n"
     ]
    }
   ],
   "source": [
    "print(\"Training Shape:\", X_train.shape, y_train.shape)\n",
    "print(\"Testing Shape:\", X_test.shape, y_test.shape) "
   ]
  },
  {
   "cell_type": "code",
   "execution_count": 40,
   "id": "67968a20",
   "metadata": {},
   "outputs": [],
   "source": [
    "import torch #pytorch\n",
    "import torch.nn as nn\n",
    "from torch.autograd import Variable "
   ]
  },
  {
   "cell_type": "code",
   "execution_count": 41,
   "id": "351ae132",
   "metadata": {},
   "outputs": [],
   "source": [
    "# convert to pytorch tensors\n",
    "X_train_tensors = Variable(torch.Tensor(X_train))\n",
    "X_test_tensors = Variable(torch.Tensor(X_test))\n",
    "\n",
    "y_train_tensors = Variable(torch.Tensor(y_train))\n",
    "y_test_tensors = Variable(torch.Tensor(y_test)) "
   ]
  },
  {
   "cell_type": "code",
   "execution_count": 42,
   "id": "d39ac2b9",
   "metadata": {},
   "outputs": [],
   "source": [
    "# reshaping to rows, timestamps, features\n",
    "X_train_tensors_final = torch.reshape(X_train_tensors,   \n",
    "                                      (X_train_tensors.shape[0], 1, \n",
    "                                       X_train_tensors.shape[1]))\n",
    "X_test_tensors_final = torch.reshape(X_test_tensors,  \n",
    "                                     (X_test_tensors.shape[0], 1, \n",
    "                                      X_test_tensors.shape[1])) "
   ]
  },
  {
   "cell_type": "code",
   "execution_count": 43,
   "id": "474abf09",
   "metadata": {},
   "outputs": [
    {
     "name": "stdout",
     "output_type": "stream",
     "text": [
      "Training Shape: torch.Size([2763, 1, 4]) torch.Size([2763, 1])\n",
      "Testing Shape: torch.Size([145, 1, 4]) torch.Size([145, 1])\n"
     ]
    }
   ],
   "source": [
    "print(\"Training Shape:\", X_train_tensors_final.shape, y_train_tensors.shape)\n",
    "print(\"Testing Shape:\", X_test_tensors_final.shape, y_test_tensors.shape) "
   ]
  },
  {
   "cell_type": "code",
   "execution_count": 44,
   "id": "552accd0",
   "metadata": {},
   "outputs": [
    {
     "data": {
      "text/plain": [
       "array([[-0.52724312, -0.52222316, -0.52889522,  2.21562311],\n",
       "       [-0.52139729, -0.51765683, -0.52381251,  1.93547103],\n",
       "       [-0.52207744, -0.52144806, -0.52648623,  0.3444833 ],\n",
       "       ...,\n",
       "       [ 2.02865129,  2.02000896,  2.07419204, -0.32786393],\n",
       "       [ 2.04737705,  2.07464471,  2.1087828 , -0.30809078],\n",
       "       [ 2.09679535,  2.1036266 ,  2.15493291, -0.24211525]])"
      ]
     },
     "execution_count": 44,
     "metadata": {},
     "output_type": "execute_result"
    }
   ],
   "source": [
    "X_train"
   ]
  },
  {
   "cell_type": "markdown",
   "id": "940d1f69",
   "metadata": {},
   "source": [
    "### LSTM model"
   ]
  },
  {
   "cell_type": "code",
   "execution_count": 45,
   "id": "032f7fab",
   "metadata": {},
   "outputs": [],
   "source": [
    "class LSTM(nn.Module):\n",
    "    \n",
    "    def __init__(self, num_classes, input_size, hidden_size, num_layers, seq_length):\n",
    "        super(LSTM, self).__init__()\n",
    "        self.num_classes = num_classes # number of classes\n",
    "        self.num_layers = num_layers # number of layers\n",
    "        self.input_size = input_size # input size\n",
    "        self.hidden_size = hidden_size # hidden state\n",
    "        self.seq_length = seq_length # sequence length\n",
    "        # LSTM model\n",
    "        self.lstm = nn.LSTM(input_size=input_size, hidden_size=hidden_size,\n",
    "                          num_layers=num_layers, batch_first=True) # lstm\n",
    "        self.fc_1 =  nn.Linear(hidden_size, 128) # fully connected 1\n",
    "        self.fc = nn.Linear(128, num_classes) # fully connected last layer\n",
    "        self.relu = nn.ReLU()\n",
    "        \n",
    "    def forward(self,x):\n",
    "        h_0 = Variable(torch.zeros(self.num_layers, x.size(0), self.hidden_size)) # hidden state\n",
    "        c_0 = Variable(torch.zeros(self.num_layers, x.size(0), self.hidden_size)) # internal state\n",
    "        # propagate input through LSTM\n",
    "        output, (hn, cn) = self.lstm(x, (h_0, c_0)) # lstm with input, hidden, and internal state\n",
    "        hn = hn.view(-1, self.hidden_size) # reshaping the data for Dense layer next\n",
    "        out = self.relu(hn)\n",
    "        out = self.fc_1(out) # first dense\n",
    "        out = self.relu(out) # relu\n",
    "        out = self.fc(out) # final Output\n",
    "        return out"
   ]
  },
  {
   "cell_type": "markdown",
   "id": "cc8d509c",
   "metadata": {},
   "source": [
    "### Training"
   ]
  },
  {
   "cell_type": "code",
   "execution_count": 46,
   "id": "2598b35a",
   "metadata": {},
   "outputs": [],
   "source": [
    "def training_loop(n_epochs, lstm, optimiser, loss_fn):\n",
    "    for epoch in range(n_epochs):\n",
    "        outputs = lstm.forward(X_train_tensors_final) # forward pass\n",
    "        optimiser.zero_grad() # calculate the gradient, manually setting to 0\n",
    "        # obtain the loss function\n",
    "        loss = loss_fn(outputs, y_train_tensors)\n",
    "        loss.backward() # calculates the loss of the loss function\n",
    "        optimiser.step() # improve from loss, i.e backprop\n",
    "        if epoch % 100 == 0:\n",
    "            print(\"Epoch: %d, loss: %1.5f\" % (epoch, loss.item())) "
   ]
  },
  {
   "cell_type": "code",
   "execution_count": 47,
   "id": "0079ca7a",
   "metadata": {},
   "outputs": [],
   "source": [
    "n_epochs = 1000 # 1000 epochs\n",
    "learning_rate = 0.001 # 0.001 lr\n",
    "\n",
    "input_size = 4 # number of features\n",
    "hidden_size = 2 # number of features in hidden state\n",
    "num_layers = 1 # number of stacked lstm layers\n",
    "\n",
    "num_classes = 1 # number of output classes "
   ]
  },
  {
   "cell_type": "code",
   "execution_count": 48,
   "id": "f84f0fc2",
   "metadata": {},
   "outputs": [],
   "source": [
    "lstm = LSTM(num_classes, \n",
    "              input_size, \n",
    "              hidden_size, \n",
    "              num_layers, \n",
    "              X_train_tensors_final.shape[1]) # our lstm class"
   ]
  },
  {
   "cell_type": "code",
   "execution_count": 49,
   "id": "05f12cf6",
   "metadata": {},
   "outputs": [],
   "source": [
    "loss_fn = torch.nn.MSELoss()    # mean-squared error for regression\n",
    "optimiser = torch.optim.Adam(lstm.parameters(), lr=learning_rate) "
   ]
  },
  {
   "cell_type": "code",
   "execution_count": 50,
   "id": "0d2991c3",
   "metadata": {},
   "outputs": [
    {
     "name": "stdout",
     "output_type": "stream",
     "text": [
      "Epoch: 0, loss: 0.11437\n",
      "Epoch: 100, loss: 0.00162\n",
      "Epoch: 200, loss: 0.00026\n",
      "Epoch: 300, loss: 0.00019\n",
      "Epoch: 400, loss: 0.00014\n",
      "Epoch: 500, loss: 0.00010\n",
      "Epoch: 600, loss: 0.00007\n",
      "Epoch: 700, loss: 0.00005\n",
      "Epoch: 800, loss: 0.00004\n",
      "Epoch: 900, loss: 0.00003\n"
     ]
    }
   ],
   "source": [
    "training_loop(n_epochs=n_epochs,\n",
    "              lstm=lstm,\n",
    "              optimiser=optimiser,\n",
    "              loss_fn=loss_fn)"
   ]
  },
  {
   "cell_type": "markdown",
   "id": "a77fe858",
   "metadata": {},
   "source": [
    "### Prediction"
   ]
  },
  {
   "cell_type": "code",
   "execution_count": 51,
   "id": "041593c1",
   "metadata": {},
   "outputs": [],
   "source": [
    "df_X_ss = ss.transform(df.drop(columns=['Close'])) # old transformers\n",
    "df_y_mm = mm.transform(df.Close.values.reshape(-1, 1)) # old transformers\n",
    "\n",
    "df_X_ss = Variable(torch.Tensor(df_X_ss)) # converting to Tensors\n",
    "df_y_mm = Variable(torch.Tensor(df_y_mm))\n",
    "# reshaping the dataset\n",
    "df_X_ss = torch.reshape(df_X_ss, (df_X_ss.shape[0], 1, df_X_ss.shape[1]))"
   ]
  },
  {
   "cell_type": "code",
   "execution_count": 52,
   "id": "dbeb9fc4",
   "metadata": {},
   "outputs": [
    {
     "data": {
      "image/png": "[encoded data removed]",
      "text/plain": [
       "<Figure size 720x432 with 1 Axes>"
      ]
     },
     "metadata": {
      "needs_background": "light"
     },
     "output_type": "display_data"
    }
   ],
   "source": [
    "train_predict = lstm(df_X_ss) # forward pass\n",
    "data_predict = train_predict.data.numpy() # numpy conversion\n",
    "dataY_plot = df_y_mm.data.numpy()\n",
    "\n",
    "data_predict = mm.inverse_transform(data_predict) # reverse transformation\n",
    "dataY_plot = mm.inverse_transform(dataY_plot)\n",
    "true, preds = [], []\n",
    "for i in range(len(dataY_plot)):\n",
    "    true.append(dataY_plot[i][0])\n",
    "for i in range(len(data_predict)):\n",
    "    preds.append(data_predict[i][0])\n",
    "plt.figure(figsize=(10,6)) #plotting\n",
    "plt.axvline(x=train_test_cutoff, c='r', linestyle='--') # size of the training set\n",
    "\n",
    "plt.plot(true, label='Actual Data') # actual plot\n",
    "plt.plot(preds, label='Predicted Data') # predicted plot\n",
    "plt.title('Time-Series Prediction')\n",
    "plt.legend()\n",
    "plt.show() "
   ]
  },
  {
   "cell_type": "code",
   "execution_count": null,
   "id": "d2e45972",
   "metadata": {},
   "outputs": [],
   "source": []
  },
  {
   "cell_type": "code",
   "execution_count": null,
   "id": "7cb99121",
   "metadata": {},
   "outputs": [],
   "source": []
  }
 ],
 "metadata": {
  "kernelspec": {
   "display_name": "Python 3 (ipykernel)",
   "language": "python",
   "name": "python3"
  },
  "language_info": {
   "codemirror_mode": {
    "name": "ipython",
    "version": 3
   },
   "file_extension": ".py",
   "mimetype": "text/x-python",
   "name": "python",
   "nbconvert_exporter": "python",
   "pygments_lexer": "ipython3",
   "version": "3.8.5"
  }
 },
 "nbformat": 4,
 "nbformat_minor": 5
}
