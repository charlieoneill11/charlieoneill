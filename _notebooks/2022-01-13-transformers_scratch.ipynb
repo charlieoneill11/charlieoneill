{
 "cells": [
  {
   "cell_type": "markdown",
   "id": "a30b31ed",
   "metadata": {},
   "source": [
    "# \"Implementing transformers and self-attention from scratch\"\n",
    "> \"Language translation model from first-principles\"\n",
    "\n",
    "- toc: true\n",
    "- branch: master\n",
    "- badges: true\n",
    "- comments: true\n",
    "- categories: [pytorch, natural language processing, transformers, attention]\n",
    "- hide: false\n",
    "- search_exclude: true"
   ]
  },
  {
   "cell_type": "code",
   "execution_count": null,
   "id": "c35756c9-156a-4c46-85a7-b1655a0b15ce",
   "metadata": {},
   "outputs": [],
   "source": []
  }
 ],
 "metadata": {
  "kernelspec": {
   "display_name": "Python 3 (ipykernel)",
   "language": "python",
   "name": "python3"
  },
  "language_info": {
   "codemirror_mode": {
    "name": "ipython",
    "version": 3
   },
   "file_extension": ".py",
   "mimetype": "text/x-python",
   "name": "python",
   "nbconvert_exporter": "python",
   "pygments_lexer": "ipython3",
   "version": "3.9.7"
  }
 },
 "nbformat": 4,
 "nbformat_minor": 5
}
