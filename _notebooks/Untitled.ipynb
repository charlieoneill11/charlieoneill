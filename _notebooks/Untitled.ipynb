{
 "cells": [
  {
   "cell_type": "code",
   "execution_count": 6,
   "id": "9b760c91-74e4-4219-a88e-47fbd9ff7fbe",
   "metadata": {},
   "outputs": [],
   "source": [
    "import pandas as pd\n",
    "import numpy as np\n",
    "import torch.nn as nn\n",
    "import torch\n",
    "from torchvision import datasets\n",
    "from torchvision import transforms\n",
    "from torch.autograd import Variable\n",
    "import matplotlib.pyplot as plt\n",
    "import warnings\n",
    "warnings.filterwarnings('ignore')"
   ]
  },
  {
   "cell_type": "code",
   "execution_count": 12,
   "id": "facca909-ec9b-4edd-a27a-d95dffa32a2c",
   "metadata": {},
   "outputs": [],
   "source": [
    "path = '/Users/charlesoneill/DataspellProjects/pytorch'\n",
    "kmnist = datasets.KMNIST(path, train=True, \n",
    "                         transform=transforms.Compose([transforms.ToTensor()]),\n",
    "                         download=False)\n",
    "kmnist_val = datasets.KMNIST(path, train=False, \n",
    "                             transform=transforms.Compose([transforms.ToTensor()]),\n",
    "                             download=False)"
   ]
  },
  {
   "cell_type": "code",
   "execution_count": 34,
   "id": "be4504cb-ffed-44dc-8757-5d3d26a4328e",
   "metadata": {},
   "outputs": [
    {
     "data": {
      "image/png": "[encoded data removed]",
      "text/plain": [
       "<Figure size 432x288 with 1 Axes>"
      ]
     },
     "metadata": {
      "needs_background": "light"
     },
     "output_type": "display_data"
    }
   ],
   "source": [
    "plt.imshow(np.squeeze(kmnist[0][0]), cmap='gray')\n",
    "plt.show()"
   ]
  },
  {
   "cell_type": "code",
   "execution_count": 54,
   "id": "8ed91579-4100-4c3d-8357-c9cb4d425993",
   "metadata": {},
   "outputs": [],
   "source": [
    "def plot_samples():\n",
    "    fig, axs = plt.subplots(3,3)\n",
    "    axs = axs.flatten()\n",
    "    imgs = []\n",
    "    for i in range(30, 39):\n",
    "        imgs.append(np.squeeze(kmnist[i][0]))\n",
    "    for img, ax in zip(imgs, axs):\n",
    "        ax.imshow(img, cmap='gray', interpolation='none')\n",
    "    plt.show()"
   ]
  },
  {
   "cell_type": "code",
   "execution_count": 55,
   "id": "59d29b4f-0c33-4306-9bf9-eecec5a066c3",
   "metadata": {},
   "outputs": [
    {
     "data": {
      "image/png": "[encoded data removed]",
      "text/plain": [
       "<Figure size 432x288 with 9 Axes>"
      ]
     },
     "metadata": {
      "needs_background": "light"
     },
     "output_type": "display_data"
    }
   ],
   "source": [
    "plot_samples()"
   ]
  },
  {
   "cell_type": "code",
   "execution_count": 69,
   "id": "0979ed92-86c5-4ca1-81db-1cc8007bb2b5",
   "metadata": {},
   "outputs": [
    {
     "data": {
      "text/plain": [
       "torch.Size([1, 28, 28])"
      ]
     },
     "execution_count": 69,
     "metadata": {},
     "output_type": "execute_result"
    }
   ],
   "source": [
    "kmnist[0][0].shape"
   ]
  },
  {
   "cell_type": "code",
   "execution_count": 70,
   "id": "9113b359-93ff-4f47-9aab-4fd10a7fde0d",
   "metadata": {},
   "outputs": [
    {
     "data": {
      "text/plain": [
       "torch.Size([1, 28, 28, 60000])"
      ]
     },
     "execution_count": 70,
     "metadata": {},
     "output_type": "execute_result"
    }
   ],
   "source": [
    "imgs = torch.stack([img_t for img_t, _ in kmnist], dim=3)\n",
    "imgs.shape"
   ]
  },
  {
   "cell_type": "code",
   "execution_count": 79,
   "id": "c192742b-8ec4-434a-a728-7260d9fabfe8",
   "metadata": {},
   "outputs": [
    {
     "name": "stdout",
     "output_type": "stream",
     "text": [
      "Pre-normalisation: mean = 0.19176216423511505, std = 0.3483428359031677\n"
     ]
    }
   ],
   "source": [
    "mean = imgs.view(1, -1).mean(dim=1)\n",
    "std = imgs.view(1, -1).std(dim=1)\n",
    "print(f\"Pre-normalisation: mean = {mean.item()}, std = {std.item()}\")"
   ]
  },
  {
   "cell_type": "code",
   "execution_count": 81,
   "id": "c9d093d6-8c4a-4764-8499-1a0a6d5faf9c",
   "metadata": {},
   "outputs": [],
   "source": [
    "transform_norm = transforms.Compose([transforms.ToTensor(),\n",
    "                                     transforms.Normalize(mean, std)])\n",
    "n_kmnist = datasets.KMNIST(path, train=True, \n",
    "                         transform=transform_norm,\n",
    "                         download=False)\n",
    "\n",
    "n_kmnist_val = datasets.KMNIST(path, train=False, \n",
    "                             transform=transforms.Compose([transforms.ToTensor()]),\n",
    "                             download=False)"
   ]
  },
  {
   "cell_type": "code",
   "execution_count": 83,
   "id": "cb0e9d93-325b-497f-91dd-9a456aa30969",
   "metadata": {},
   "outputs": [
    {
     "name": "stdout",
     "output_type": "stream",
     "text": [
      "Post-normalisation: mean = -0.0, std = 1.0\n"
     ]
    }
   ],
   "source": [
    "# print new mean and std\n",
    "n_imgs = torch.stack([img_t for img_t, _ in n_kmnist], dim=3)\n",
    "mean = n_imgs.view(1, -1).mean(dim=1)\n",
    "std = n_imgs.view(1, -1).std(dim=1)\n",
    "print(f\"Post-normalisation: mean = {np.round(mean.item(), 2)}, std = {std.item()}\")"
   ]
  },
  {
   "cell_type": "code",
   "execution_count": 86,
   "id": "13182661-65ac-4696-8f09-ebb3d6393ad4",
   "metadata": {},
   "outputs": [],
   "source": [
    "from torch.utils.data import DataLoader\n",
    "\n",
    "train_dataloader = DataLoader(n_kmnist, batch_size=64, shuffle=True)\n",
    "val_dataloader = DataLoader(n_kmnist_val, batch_size=64, shuffle=False)"
   ]
  },
  {
   "cell_type": "code",
   "execution_count": null,
   "id": "fc8f0be5-1a8e-430a-8c79-aea9859babec",
   "metadata": {},
   "outputs": [],
   "source": [
    "class CNN(nn.Module):\n",
    "    \n",
    "    def __init__(self):\n",
    "        super().__init__()"
   ]
  }
 ],
 "metadata": {
  "kernelspec": {
   "display_name": "Python 3 (ipykernel)",
   "language": "python",
   "name": "python3"
  },
  "language_info": {
   "codemirror_mode": {
    "name": "ipython",
    "version": 3
   },
   "file_extension": ".py",
   "mimetype": "text/x-python",
   "name": "python",
   "nbconvert_exporter": "python",
   "pygments_lexer": "ipython3",
   "version": "3.8.12"
  }
 },
 "nbformat": 4,
 "nbformat_minor": 5
}
